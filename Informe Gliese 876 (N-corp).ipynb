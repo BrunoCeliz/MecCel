{
 "cells": [
  {
   "cell_type": "markdown",
   "id": "950562b6",
   "metadata": {},
   "source": [
    "# <center> Informe Mecánica Celeste: Sistema Gliese 876\n",
    " \n",
    "A continuación, analizaremos vía simulaciones numéricas con el programa *N-CORP* (versión 9) el comportamiento dinámico del sistema *Gliese 876* (GJ876) bajo distintas condiciones y considerando distintos efectos como la Relatividad General, Efectos Tidales, entre otros.\n",
    "\n",
    "Cabe aclarar que, después de probar todos los parámetros del trabajo de Trifonov et al. (2018), resulta que el último planeta (GJ876e, el más lejano a la estrella primaria) siempre se termina escapando del sistema en las simulaciones. Luego, no lo tendremos en cuenta para ninguno de los problemas de todas las guías, dado que a fines de mostrar los distintos efectos estudiados, con un sistema de 3 planetas (que son los más cercanos) y la estrella primaria, se aprecian los efectos que queremos estudiar.\n",
    "\n",
    "Todos los elementos orbitales y posiciones están vistos desde un sistema de referencia astrocéntrico."
   ]
  },
  {
   "cell_type": "markdown",
   "id": "0e2a6fb5",
   "metadata": {},
   "source": [
    "<center> <img src=\"GJ876 star.jpg\">\n",
    "<br>   \n",
    "Información acerca de nuestra estrella primaria. Extraído de exoplanet.eu/catalog/.\n",
    "\n",
    "<img src=\"GJ 876 planets paper.jpg\">\n",
    "    <br>\n",
    "Información acerca de los planetas de nuestro sistema. Extraído de Trifonov et al. (2018)"
   ]
  },
  {
   "cell_type": "markdown",
   "id": "6879581e",
   "metadata": {},
   "source": [
    "## Guía 1: Primer contacto con el sistema"
   ]
  },
  {
   "cell_type": "markdown",
   "id": "61e2f91f",
   "metadata": {},
   "source": [
    "Veamos la diferencia en los resultados a partir de considerar GJ876e y no hacerlo con los gráficos de e(t) para un tiempo de integración de 60 000 días (~1000 períodos de GJ876b (más lejano y masivo))."
   ]
  },
  {
   "cell_type": "markdown",
   "id": "203a1e51",
   "metadata": {},
   "source": [
    "<center> <img src=\"Plot days e(t) GJ 876.jpg\">\n",
    "    <img src=\"Plot days e(t) GJ 876 sin e.jpg\">"
   ]
  },
  {
   "cell_type": "markdown",
   "id": "3c31aff5",
   "metadata": {},
   "source": [
    "#### P3: \n",
    "\n",
    "Pongamos todos los planetas (4) y veamos las trayectorias en el plano de la órbita $(x,y)$ durante 1 período del más lejano.\n",
    "<br>\n",
    "Los Nº de los planetas están en orden (1 => GJ876b (más masivo), ... , 4 => GJ876e (el menos masivo)).\n",
    "<br>"
   ]
  },
  {
   "cell_type": "markdown",
   "id": "edb6b5c3",
   "metadata": {},
   "source": [
    "<center> <img src=\"P3 (x,y) con GJ876e t = 1 T de e.jpg\">"
   ]
  },
  {
   "cell_type": "markdown",
   "id": "1bb69ae1",
   "metadata": {},
   "source": [
    "#### P4: \n",
    "Modifiquemos la masa de la primaria (seguiremos con 3 planetas). Aumentaremos la masa 10 veces (pasa de $0.334 M_S$ a $3.34 M_S$).\n",
    "\n",
    "<img src=\"P4 (x,y) sin GJ876e t = 1 T de b; M = 10 M.jpg\">\n",
    "\n",
    "Notamos que, si bien el planeta exterior (que completó 1 vuelta) no se vió muy modificado, el planeta más cercano (en celeste) aumentó su período de tal forma que por cada intervalo de salida de datos (cada 'foto') su posición en la órbita era muy parecida a la de la anterior, y se ven todos los puntos cerca.\n",
    "<br>\n",
    "Por otro lado, el planeta 2 (GJ876c) pasó de dar 2 vueltas en $t = T_b$ (resonancia 1:2 entre GJ876c y GJ876b) a dar 7 vueltas (7 pts muy juntos para cada intervalo de órbita).\n",
    "\n",
    "\n",
    "Por completitud, repitamos la integración pero aumentemos la frecuencia de salida de datos para que, en vez de sacar 100 fotos, tengamos 10000 fotos:\n",
    "\n",
    "<img src=\"P4 (x,y) sin GJ876e t = 1 T de b; M = 10 M; dt = 10^-3.jpg\">\n",
    "\n",
    "Vemos ahora que el planeta 3 (el más cercano, GJ876d) mostró un ligero cambio en la longitud del pericentro (se nota un \"barrido\" de la línea trayectoria)."
   ]
  },
  {
   "cell_type": "markdown",
   "id": "88bc014c",
   "metadata": {},
   "source": [
    "## Guía 2: P2C\n",
    "\n",
    "#### P0:\n",
    "Como estamos viendo el P2C, quedémosnos con GJ876c (planeta intermedio de este *GJ876'* que tiene 3 planetas). Luego, tengo que integrar durante $t = 5 * T_c = 150$ días. Con $dt = 10^{-3} T$.\n",
    "<br>\n",
    "Si graficamos sus elementos orbitales en función del tiempo, vemos que a(t) y e(t) son ctes, como debe ser en el problema de Kepler de 2 cuerpos:\n",
    "\n",
    "### $\\frac{4 \\pi^{2} a^{3}}{T^2} = G(m_{1}+m_{2})$\n",
    "### $h = \\sqrt{G(m_{1}+m_{2})a(1-e^{2})}$"
   ]
  },
  {
   "cell_type": "markdown",
   "id": "9b736271",
   "metadata": {},
   "source": [
    "<center> <img src=\"P0 a(t) GJ876c.jpg\">\n",
    "         <img src=\"P0 e(t) GJ876c.jpg\">\n",
    "         <img src=\"P0 M(t) GJ876c.jpg\">\n",
    "\n",
    "Viendo el gráfico de la Anomalía Media en función del tiempo $(M(t) = n(t-t_{0}))$ observamos rectas que se repiten periódicamente, indicándonos en qué tiempo se cumple 1 período y que el movimiento medio $(n(t)=\\frac{2\\pi}{T})$ es una constante también. "
   ]
  },
  {
   "cell_type": "markdown",
   "id": "44968dbf",
   "metadata": {},
   "source": [
    "Aumentemos la condición inicial para el semieje mayor (pongamos $a = 5 a_{0}$). También debe permanecer cte, pero deberíamos notar un cambio en el período $(\\dot M(t) = n)$. Además, como $n^2 = \\frac {\\mu}{a^3}$ => aumentemos el tiempo de integración a 300 días).\n",
    "\n",
    "<img src=\"P0 M(t) GJ876c con a = 5 a_0.jpg\">\n",
    "\n",
    "Notamos un clarísimo cambio en la pendiente de M(t) ¡Ni siquiera con 300 días le alcanzó para dar una vuelta!"
   ]
  },
  {
   "cell_type": "markdown",
   "id": "84b8301c",
   "metadata": {},
   "source": [
    "## Guía 3: P2CP (RG)\n",
    "\n",
    "#### P2: \n",
    "Estamos en el P2C Perturbado. En este caso la perturbación viene dada por efectos de la Relatividad General (*RG*) (a primeros órdenes).\n",
    "<br>\n",
    "Para notar un efecto mayor, fijémosnos en la evolución del P2C sólo del planeta más cercano a la estrella primaria: GJ876d, pero con la RG encendida.\n",
    "<br>\n",
    "Luego, integramos durante $t = 2000$ días (~ $1000 T_d$, $dt = 10^{-2} T$) nuestro sistema, y si nos fijamos en el plot de la Longitud de pericentro en función del tiempo $(w(t))$, vemos una evolución secular de este parámetro (que era lo esperado) desde 272.8º hasta casi 273º.\n",
    "\n",
    "<center> <img src=\"GJ876d w(t) cada 20 días (P=2 d).jpg\">"
   ]
  },
  {
   "cell_type": "markdown",
   "id": "1ebfab2e",
   "metadata": {},
   "source": [
    "Guardamos los datos, le hacemos un ajuste lineal a estos datos para obtener la tasa de precesión promedio del pericentro, obteniendo un valor de \n",
    "<br>\n",
    "<$\\dot w(t)$> $= (9.522 \\pm 0.006) * 10^{-5} \\frac{º}{d}$ $= (3.475 \\pm 0.002) * 10^{-2} \\frac{º}{year}$.\n",
    "\n",
    "<center> <img src=\"GJ876d fit.jpg\">"
   ]
  },
  {
   "cell_type": "markdown",
   "id": "b7a575dd",
   "metadata": {},
   "source": [
    "Expandiendo a primer orden el factor de Lorentz obtenemos el término del potencial gravitatorio que introduce una perturbación \"Post-Newtoniana\". Utilizándolo en las ecuaciones planetaria de Euler-Lagrange obtnemos ecuaciones diferenciales acopladas para $(a,e,w)$, pero aplicando el método de Linstedt (diciendo que el pequeño parámetro es $\\Delta t \\ll 1$) llegamos a que\n",
    "\n",
    "### $ <\\dot w(t)> = \\frac{6 \\pi G M_{0}}{c^{2} a T} = 0.083 \\frac{º}{year}$\n",
    "\n",
    "Lo cual discrepa bastante con el resultado del ajuste a la simulación numérica. Esto puede deberse a todas las simplificaciones que deben realizarse para encontrar esta expresión, o a un error en la cuenta del valor teórico.\n",
    "\n",
    "Repitamos la simulación, pero considerando la interacción gravitatoria de los demás planetas y calculemos nuevamente la tasa de precesión del pericentro:\n",
    "\n",
    "<center> <img src=\"GJ876d fit w planets.jpg\">"
   ]
  },
  {
   "cell_type": "markdown",
   "id": "86a7ef44",
   "metadata": {},
   "source": [
    "Lo primero que notamos es que ya no sólo aparece una variación secular más una periódica, sino que parece haber más términos que producen otras oscilaciones. Por ejemplo, vemos que el ajuste lineal no es tan bueno como en el primer caso, y que el valor máximo de la longitud de pericentro, para el mismo tiempo de integración, es mucho mayor $\\sim 277º$ ahora vs $\\sim 273º$ antes. Del ajuste obetenemos que\n",
    "\n",
    "<$\\dot w(t)$> $= 1.88 * 10^{-3} \\frac{º}{d}$ $= 0.686 \\frac{º}{year}$."
   ]
  },
  {
   "cell_type": "markdown",
   "id": "649d68f6",
   "metadata": {},
   "source": [
    "## Guía 4: Efectos Tidales\n",
    "\n",
    "#### P7:\n",
    "\n",
    "Analicemos la evolución tidal de nuestro sistema. Para ello, necesitamos un tiempo de integración bastante grande: en esta caso utilizaremos $t = 10^5 T_{b} = 6*10^6$ días. Además, decidimos asignarles los parámetros tidales $Q'$ de tal forma que $Q'_a = 10^6$ (estrella); $Q'_b = 10^5$; $Q'_c = 10^5$; $Q'_d = 10^3$ (planetas). Las densidades $\\rho$ de cada planeta las asignamos según el promedio de cada tipo de planeta (rocoso o gaseoso): $\\rho_b = 1.33 \\frac{grs}{cm^3}$; $\\rho_c = 1.33 \\frac{grs}{cm^3}$; $\\rho_d = 5.5 \\frac{grs}{cm^3}$.\n",
    "\n",
    "Luego, supusimos frecuencias de spin inciales diferentes al sincronismo. Es decir, pedimos que el período rotacional $(R)$ de cada planeta sea $\\frac{1}{10}$ de su período orbital $T$ ($R < T$ => rotadores rápidos). Esto es, $R_b = 6$ días; $R_c = 3$ días y $R_d = 0.2$ días. Luego de realizar la simulación, notamos que:\n",
    "\n",
    "- Para GJ876b y c no hay una evolución secular de $a$ y $e$, sólo oscilaciones periódicas.\n",
    "- Para GJ876d si se nota un $\\dot a < 0$ y $\\dot e < 0$ a lo largo de toda la integración."
   ]
  },
  {
   "cell_type": "markdown",
   "id": "223690b5",
   "metadata": {},
   "source": [
    "<center> <img src=\"a(t) GJ876d.jpg\">\n",
    "    <img src=\"e(t) GJ876d.jpg\">"
   ]
  },
  {
   "cell_type": "markdown",
   "id": "d0032566",
   "metadata": {},
   "source": [
    "Si le pedimos que nos muestre la evolución del spin de cada planeta vemos que:\n",
    "\n",
    "- GJ876b y c sufren un aumento lineal en el tiempo del período rotacional: $R_b = 6.005$; $R_c = 3.034$.\n",
    "- GJ876d también sufrió un crecimiento del período rotacional, pero mucho antes del tiempo final de la integración se estabilizó en un valor constante particular, y es que $R_d \\cong 1.9$ (¡$R_d = T_d*(1-e_{d}^2) = 1.92$!). Esto es, un super-sincronismo spin-órbita.\n",
    "\n",
    "Que GJ876b y c no sufran alteraciones seculares en $a(t)$ y $e(t)$ se debe a su elevado valor asignado del parámetro tidal $Q'$, dado a que, por definición, mayor $Q'$ => menor efecto tidal:\n",
    "\n",
    "### $Q' = \\frac{3}{2\\Delta t K_{2} n}$\n",
    "\n",
    "$\\Delta t K_{2}$ es el término que aparece en las ecuaciones de $\\dot a$ y $\\dot e$. Por eso sí vemos el cambio para los elementos orbitales de GJ876d.\n",
    "\n",
    "Las ecuaciones diferenciales, nos dan información de $\\dot R$, el cual presenta un \"mínimo\" cuando $R = T$ (o sea, sincronismo spin-órbita).\n",
    "Esto explica el comportamiento de $R$ de cada planeta: Los efectos tidales tienden al sincronismo, y para $Q'$ menores se empiezan a notar los efectos en $a$ y $e$ de cada cuerpo: "
   ]
  },
  {
   "cell_type": "markdown",
   "id": "dce82288",
   "metadata": {},
   "source": [
    "<center> <img src=\"R(t) GJ876b.jpg\">\n",
    "    <img src=\"R(t) GJ876c.jpg\">\n",
    "    <img src=\"R(t) GJ876d acotado.jpg\">"
   ]
  },
  {
   "cell_type": "markdown",
   "id": "24ffc63d",
   "metadata": {},
   "source": [
    "## Guía 5: P3CR\n",
    "\n",
    "#### P10:\n",
    "\n",
    "Estudiemos el P3C Circular Restricto, dónde la masa primaria sea el Sol y la secundaria Júpiter, pero como es el problema circular: $e_J = 0$. Además consideraremos $i = \\Omega = w = 0$ siempre. Luego tiremos 1000 partículas (sin masa) con $e_i = 0$ y $a_{i} \\in [0.4, 0.95] a_J$ y estudiemos su evolución en el tiempo, para 3 tiempos de integración distintos ($10^2 T_J$, $10^3 T_J$ y $10^4 T_J$):"
   ]
  },
  {
   "cell_type": "markdown",
   "id": "db12c679",
   "metadata": {},
   "source": [
    "### $\\Delta a(a):$\n",
    "\n",
    "<center> <img src=\"da(a) t = 10^2.jpg\">\n",
    "    <img src=\"da(a) t = 10^3.jpg\">\n",
    "    <img src=\"da(a) t = 10^4.jpg\">"
   ]
  },
  {
   "cell_type": "markdown",
   "id": "f5bbd59f",
   "metadata": {},
   "source": [
    "### $\\Delta e(a):$\n",
    "\n",
    "<center> <img src=\"de(a) t = 10^2.jpg\">\n",
    "    <img src=\"de(a) t = 10^3.jpg\">\n",
    "    <img src=\"de(a) t = 10^4.jpg\">"
   ]
  },
  {
   "cell_type": "markdown",
   "id": "9e9f9c52",
   "metadata": {},
   "source": [
    "De los gráficos de $\\Delta a(a)$ podemos identificar una región inestable a partir de $a \\gtrsim 4.3$ UA, en donde el $\\Delta a$ crece de tal forma a lo largo de las distintas integraciones de mayor tiempo, que las partículas probablemente se hayan escapado del sistema. Analíticamente, como primera aproxiamción podemos calcular el Radio de Hill, para saber la región de inestabilidad tal que poner una partícula inicialmente ahí resultaría en un comportamiento caótico.\n",
    "\n",
    "### $ R_{H} = a_{J} (\\frac{\\mu}{3})^\\frac{1}{3} = 4.845 \\text{ UA}$\n",
    "\n",
    "Lo cual no termina de explicar la inestabilidad de la región $4.3 \\text{ UA} < a < 4.845 \\text{ UA}$.\n",
    "\n",
    "Como segunda aproximación, calculemos el valor de la constante de Jacobi $C_{J,L1}$ (en el sistema adimensionalizado, recordando que nuestros alore son $m_0$ céntrico, $\\mu = 9.54*10^{-4}$) correspondiente a cuando se abre el cuello de la superficie de Hill en el punto $L1$:\n",
    "\n",
    "### $C_{J,L1} = 3.04$\n",
    "\n",
    "<center> <img src=\"C_J,L1.jpg\">\n",
    "    <br>\n",
    "    Superficie de Hill para $C_{J,L1}$. <br> (Ignorar el valor de 3.805, que corresponde a $\\mu = 0.2$, que no es nuestro caso)."
   ]
  },
  {
   "cell_type": "markdown",
   "id": "f11c390e",
   "metadata": {},
   "source": [
    "Ahora, calculemos el valor de esta constante para cada partícula $C_{J,i}$, sabiendo que en el sistema adimensionalizado\n",
    "\n",
    "### $C_{J,i} = a_i^2 + 2*\\frac{1-\\mu}{a_i + \\mu} + 2*\\frac{\\mu}{1-\\mu-X_{L1}} - {(\\sqrt{\\frac{1-\\mu}{a_i}} - 1)}^2$\n",
    "\n",
    "Y, si $C_{J,i} < C_{J,L1}$ puede haber órbitas de transferencias (movimiento permitido) entre Júpiter y el Sol. Esto se cumple cuando (volviendo al sistema dimensionalizado) $a_i > 4.5 \\text{ UA}$.\n",
    "\n",
    "Entonces logramos explicar la región de inestabilidad para $a \\gtrsim 4.5 \\text{ UA}$. Pero no para la región $4.3 \\text{ UA} < a < 4.5 \\text{ UA}$. Esta inestabilidad puede deberse a resonancias entre partículas y Júpiter o falta de mejores aproximaciones para calcular estas constantes o para el mismo Radio de Hill.\n",
    "\n",
    "Además notamos que, en el gráfico de las 2 primeras integraciones ($t = 120$ años y $t = 1200$ años), hay una zona de muy pocos puntos que tuvieron un $\\Delta a$ relativamente bajo, y es que este punto corresponde al punto lagrangeano L1, ubicado en $a_{L1} \\cong 4.853$ UA. Al ser un punto de equilibrio inestable, estas partículas se terminan escapando como muestra la 3º integración.\n",
    "\n",
    "Por otro lado, $\\Delta e(a)$ nos muestra *picos* que crecen en el tiempo (son más grandes para tiempos de integración mayor) para determinados valores de $a$. Esto puede explicarse al pensar en zonas de *resonancia* entre las partículas y Júpiter: Si pensamos en el sistema adimensionalizado $(n_J = 1; a_J = 1; m_S + m_J = 1; \\frac{m_J}{m_S + m_J} = \\mu)$ obtenemos que, para cada partícula\n",
    "\n",
    "### $n_i = \\sqrt{\\frac{1-\\mu}{a_{i}^3}}  $\n",
    "\n",
    "Luego, *resonancia* significa que\n",
    "\n",
    "### $\\frac{n_i}{n} = \\frac{k}{l}$; $k, l \\in \\mathbb{Z}$"
   ]
  },
  {
   "cell_type": "markdown",
   "id": "e25708f2",
   "metadata": {},
   "source": [
    "De los gráficos, reemplazamos $a_i$ con las ubicaciones de los picos (adimensionalizados): $\\frac{3.27 \\text{ UA}}{5.2 \\text{ UA}} = 0.63$, $\\frac{4.15 \\text{ UA}}{5.2 \\text{ UA}} = 0.799$ (los 2 más grandes) y $\\frac{3.7 \\text{ UA}}{5.2 \\text{ UA}} = 0.711$, $\\frac{4.3 \\text{ UA}}{5.2 \\text{ UA}} = 0.827$ (los picos menores).\n",
    "\n",
    "Resultan (de menor a mayor $a_i$) resonancias 2:1, 5:3, 7:5 y 4:3. Esto quiere decir que, en estas zonas las partículas sufren un impulso cada vez que completan una cantidad definida de vueltas al Sol, dado a que pasan cerca de Júpiter, lo que hace que aumente $e_i$ y $a_i$ de cada una."
   ]
  },
  {
   "cell_type": "markdown",
   "id": "d08a8cfc",
   "metadata": {},
   "source": [
    "## Guía 7\n",
    "\n",
    "#### P1:\n",
    "\n",
    "Volvamos a los orígenes: sin RG ni efectos tidales, sólo la estrella primaria y los 3 planetas de GJ876 (sin GJ876e) interactuando gravitatoriamente entre sí. Integramos durante $t = 6*10^3$ días, con intervalos de salida $\\Delta t = 2*10^{-2}$ días, y analizamos $(a,e,w)$ de cada planeta:"
   ]
  },
  {
   "cell_type": "markdown",
   "id": "022213e4",
   "metadata": {},
   "source": [
    "<center> <img src=\"a(t) GJ876.jpg\">\n",
    "    <img src=\"e(t) GJ876.jpg\">\n",
    "    <img src=\"w(t) GJ876.jpg\">"
   ]
  },
  {
   "cell_type": "markdown",
   "id": "555abac6",
   "metadata": {},
   "source": [
    "En cada uno de los gráficos estamos viendo curvas que se componen de muchas frecuencias. Analizando y haciendo zoom alcanzamos a contar 4: \n",
    "- Una de muy baja frecuencia (~4000 días) que se corresponde con el período de precesión del pericentro (lo podemos ver en $e_b$ y $e_d$).\n",
    "- La más notable (~500 días) que aparece en $e_b$, $e_c$, $a_b$ y $a_c$.\n",
    "- La que le da la forma *dentada* a las curvas (~25 días) apreciable en todas las curvas, pero en menor medida para las $a_d$ y $e_d$.\n",
    "- Una imperceptible en los gráficos mostrados anteriormente (~1 día) la cual descubrimos haciendo zoom en $w_b$, $w_d$ y $a_b$.\n",
    "\n",
    "Podemos explicar esto sabiendo que cada planeta agrega 1 frecuencia (por lo que serían 3 en cada elemento orbital) y la 4º puede ser una combinación lineal de estas frecuencias, dado a que tenemos a GJ876b y c en resonancia 1:2."
   ]
  },
  {
   "cell_type": "markdown",
   "id": "36974748",
   "metadata": {},
   "source": [
    "<center> <img src=\"w(t) GJ876b zoom.jpg\">\n",
    "    <img src=\"w(t) GJ876d.jpg\">\n",
    "    <img src=\"a(t) GJ876b zoom.jpg\">"
   ]
  },
  {
   "cell_type": "markdown",
   "id": "cbe0d83f",
   "metadata": {},
   "source": [
    "Veamos nuevamente $(a,e,w)$ pero para una integración mayor, de $t = 6*10^4$ días, con intervalos de salida $\\Delta t = 2*10^{-1}$ días:\n",
    "\n",
    "<center> <img src=\"a(t) GJ876 10t.jpg\">\n",
    "    <img src=\"e(t) GJ876 10t.jpg\">\n",
    "    <img src=\"w(t) GJ876 10t.jpg\">"
   ]
  },
  {
   "cell_type": "markdown",
   "id": "37be5474",
   "metadata": {},
   "source": [
    "Luego, vemos que:\n",
    "\n",
    "- No logramos apreciar nuevas frecuencias (de mayor período) cuando integramos durante más tiempo para estos elementos orbitales $(a,e)$.\n",
    "- Sí notamos una ligera variación en la pendiente de $w_b$ y $w_c$: $|\\ddot w| > 0$.\n",
    "\n",
    "Para verificar esto, calculemos el período de circulación al principio de la simulación y comparémoslo con la última circulación, del planeta GJ876b (*planeta 1*):\n",
    "\n",
    "### $T_{w_i} = 3784.2$ días\n",
    "### $T_{w_f} = 3515.6$ días\n",
    "\n",
    "Lo cual confirma que el período de circulación se vió disminuido a lo largo del tiempo (las pendientes vistas en $w_b(t)$ son cada vez más pronunciadas)."
   ]
  },
  {
   "cell_type": "markdown",
   "id": "5179eac8",
   "metadata": {},
   "source": [
    "Veamos a continuación cómo se ven modificadas las oscilaciones cuando variamos la masa y la distancia de los cuerpos. Para ello, trabajaremos sólo con GJ876b y d (más y menos masivo), e iremos variando la masa y el semieje mayor sólo de GJ876b. El tiempo de integración será como al principio de este problema, $t = 6*10^3$ días, con intervalos de salida $\\Delta t = 2*10^{-2}$ días.\n",
    "\n",
    "En la 2º integración cambiaremos la masa de GJ876b tal que $M_f = 10M_i$, y en la 3º la distancia tal que $a_f = 10a_i$. Grafiquemos las 3º integraciones en el mismo gráfico para compararlas:\n",
    "\n",
    "*Como GJ876d casi no afecta a GJ876b, vamos a ver **sólo las variaciones de los elementos de GJ876d***\n",
    "\n",
    "<center> <img src=\"e(t) GJ876d db.jpg\">\n",
    "    <img src=\"w(t) GJ876d db.jpg\">\n",
    "    <img src=\"a(t) GJ876d db.jpg\">\n",
    "    <br>\n",
    "    En color magenta la integración original, en verde donde $M_f = 10M_i$ y en celeste $a_f = 10a_i$."
   ]
  },
  {
   "cell_type": "markdown",
   "id": "2a11e904",
   "metadata": {},
   "source": [
    "Vemos que:\n",
    "\n",
    "- Los efectos periódicos (amplitud de las oscilaciones) y los efectos seculares (pendientes de las curvas) de $e(t)$ y $w(t)$ aumentan proporcional a la masa e inversamente proporcional al semieje mayor de GJ876b.\n",
    "- Para el caso de $a(t)$ sólo se producen efectos seculares notables en el caso de $M_f = 10M_i$, pero también se cumple que la amplitud de las oscilaciones periódicas son proporcional a la masa e inversamente proporcional al semieje mayor (por ver esto tuvimos que acotar el rango de visualización del gráfico de $a(t)$.\n",
    "\n",
    "<center> <img src=\"a(t) GJ876d integ2.jpg\">"
   ]
  },
  {
   "cell_type": "markdown",
   "id": "4e5540a2",
   "metadata": {},
   "source": [
    "Por lo tanto, el caso de $a = 10a_i$ es casi un problema de 2 cuerpos entre GJ876d y la primaria, y cuando $M = 10*M_i$ las perturbaciones de GJ876b hacen un mayor efecto sobre las variaciones de los elemntos orbitales de GJ876d. Repetimos que las variaciones de lso elementos de GJ876b producidas por el 3º cuerpo eran casi imperceptibles en comparación a las observadas en GJ876d y por eso no las mostramos."
   ]
  }
 ],
 "metadata": {
  "kernelspec": {
   "display_name": "Python 3",
   "language": "python",
   "name": "python3"
  },
  "language_info": {
   "codemirror_mode": {
    "name": "ipython",
    "version": 3
   },
   "file_extension": ".py",
   "mimetype": "text/x-python",
   "name": "python",
   "nbconvert_exporter": "python",
   "pygments_lexer": "ipython3",
   "version": "3.8.8"
  }
 },
 "nbformat": 4,
 "nbformat_minor": 5
}
